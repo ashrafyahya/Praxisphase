{
 "cells": [
  {
   "cell_type": "markdown",
   "metadata": {},
   "source": [
    "# Betroffene Schwierigkeiten"
   ]
  },
  {
   "cell_type": "markdown",
   "metadata": {},
   "source": [
    "## Genutzte Hardware für image flaschen:  \n",
    "\n",
    "Folgende Softwares wurde auf zwei Laptops ausgeführt.  \n",
    "Der einer ist Hochschul-Laptop, den ich zur C++ Tutorium nutze. Der andere ist mein persönlicher Laptop.  \n",
    "\n",
    "### Hochschul-Laptop: \n",
    "**Betribssystem**: Windows 10  \n",
    "**Speicher**: 237GB  \n",
    "**RAM**: 8GB  \n",
    "**Weiteres**: Core i3, 2 Kerne, 4 log. Prozessoren  \n",
    "\n",
    "### Persönlicher Laptop: \n",
    "**Betribssystem**: Windows 10  \n",
    "**Speicher**: 222GB SSD + 1T DDR  \n",
    "**RAM**: 16GB  \n",
    "**Weiteres**: Core i5, 4 Kerne, 8 log. Prozessoren  "
   ]
  },
  {
   "cell_type": "markdown",
   "metadata": {},
   "source": [
    "## Errors-Liste und mögliche Lösungen und Empfehlungen"
   ]
  },
  {
   "cell_type": "markdown",
   "metadata": {},
   "source": [
    "- SD Card Formatter funktioniert nur auf den persönlichen PC. Auf Hochschul-Laptop erkennt er die SD Karte nicht.  \n",
    "- Etscher bleibt anhängend auf den Hochschul-Laptop. Er zeigt, dass es gerade mit Flash angefangen wird, fängt aber nie.  \n",
    "- Etscher führt auf meinem persönlichen PC zu Blue Screen. Das habe ich vielmals bekommen. Genau an dem Punkt wo der Flash-Prozes in die SD Karte fertig ist, scheitert das System meines Laptops und zeigt den blauen Bildschirm."
   ]
  },
  {
   "cell_type": "markdown",
   "metadata": {},
   "source": [
    "- Rufus: als Lösung dafür habe ich Rufus installiert. Rufus führt manchmal zu Blue screen auch. Doch das macht er nur wenn er die SD Karte selbst formatieren muss. Formatierte SD Karte verursacht dabei kein Problem und der Flash-Prozess geht bis zu FERTIG. \n",
    "- Win32 Disk Manager: Alternative zu Rufus habe ich Win32 Disk Manager benutzt. Mein Rechner erkennt dabei die SD Karte nicht. Deswegen konnte ich diese Möglichkeit auf meinen Rechner nicht nutzen. Auf den Hochschul-Laptop wird die SD Karte zwar erkennt, kann aber der Flash-Prozess nicht gestartet werden."
   ]
  },
  {
   "cell_type": "markdown",
   "metadata": {},
   "source": [
    "- Flash-Prozess: Er hat bei Rufus mehrmals zum Ende funktioniert. Einmal auch sogar bei Etscher. Das Image konnte aber nicht in die Hardware geflscht werden. System startet und zeigt das Logo von Nvidia und fängt zu booten von der SD Karte an. In ein paar Sekunden geht mein Bildschirm aus und zeigt dass keine HDMI Signale von meiner Hardware gibt. Die Ventilator geht dabei kurz aus und läuft wieder ohne dass sich etwas auf meinen Bildschirm ändert."
   ]
  },
  {
   "cell_type": "markdown",
   "metadata": {},
   "source": [
    "-System bootet nicht: Habe mir das Forum von nvidia geguckt. Da haben sich auch einigen mehrmals beschworen. Am meisten haben sie aber Linux genutzt, wobei ich auf Windows arbeite. Diese vorhandenen Feedbacks waren mir  nicht hilfreich. "
   ]
  },
  {
   "cell_type": "markdown",
   "metadata": {},
   "source": [
    "- SDK Manager: aus den Foren hatte ich die Idee auf Linux zu arbeiten. Anweisungen für die Installation werden folgen. Nötige bzw. verwendete Softwares: VirtualBox, Ubuntu, 35GB Mindestspeicher."
   ]
  },
  {
   "cell_type": "markdown",
   "metadata": {},
   "source": [
    "- Speicher ist wenig: das löst man, indem man in VirtualBox, also außerhalb der virtuellen Maschine, den Speicher vergrößt. Wobei man dies durch Virtuelle Medien machen kann. Stellen Sie sicher, dass Sie genug Speicher auf Ihren Windows haben. Nach der Vergrößerung die Virtuelle Maschine schließen und neu starten."
   ]
  },
  {
   "cell_type": "markdown",
   "metadata": {},
   "source": [
    "- SDK Mnager beschwert sich: Obwohl der Speicher schon über 70GB ist, beschwert sicher die SDK Manager Anwendung. Problem konnte so sein: Speicher ist in mehreren Partitionen geteilt. SDK Manager nutzt dabei die kleine Partition oder es gibt nur eine Partition, die klein ist. Der Rest des Speichers ist dabei nicht zugeteilt und bleibt nicht benutzt. Lösung: Nuten Sie Gparted um die Größe der Partition zu vergrößern.\n",
    "\n",
    "- SDK Manager erkennt keine Hardware: Sie müssen dabei den USB ins VirtualBox hinzufügen. Gehen Sie ina VirtalBox, nicht in Ubuntu sondern da wo Sie das Ubuntu System starten können, und wählen Sie setting und USB aus. Klicken Sie auf das USB Symbol mit Plus-Zeichen. Suchen Sie den Name der Hardware aus. Es soll der Name von Nvidial enthalten.  \n",
    "\n",
    "- Recovery Mode. SDK Manager erkennt noch keine Hardware. Der Grund dafür, dass der USB-Anschluss mit Type C für die Stromversorgung und für die Datenübertragung genutzt werden kann. Wenn Die dies einfach schließen, wird die Hardware nicht erkennt. Die Hardware muss sich in das Recovery Mode befinden. Recovery Mode wird erst geschaltet, wenn die zwei PINS Ground und REC verbunden sind. Nutzen Sie Female zu Female Jumber/ Kabel, um die Zwei Pins zu schalten. Danach können Sie die Stromversorgung anschließen. So wird die Hardware von SDK Manager erkennt und man kann weiter mit der Installation fortsetzen.  \n",
    "\n",
    "- Gerät wieder nicht erkannt: Nach der Installation aller Paketen und wenn der Flash-Prozess angefangen hat, meldet sich SDK Manager, dass die Hardware nicht gefunden werden kann.  \n",
    "\n",
    "- Freezing der Virtuelle Maschine VirtualBox. Ein möglicher Grund ist der kleine Speicher. Durch das neu Installaieren und mehr Speicher geben habe ich dieses Problem gelöst."
   ]
  },
  {
   "cell_type": "markdown",
   "metadata": {},
   "source": [
    "- Schwarzes Bildschirm. Als Lösung habe ich die Methode von Ubuntu command \"dd\" benutzt, um das Image in die SD Karte zu flaschen. Neues Problem: Schwarzes Bildschirm nach dem ich die SD Karte ins Gerät eungesteckt und das Gerät eingeschaltet habe."
   ]
  },
  {
   "cell_type": "markdown",
   "metadata": {},
   "source": [
    "Das eigentliche Problem:\n",
    "Jetson Orin Nano hat eigentlich ein altes System und stoßt gegen das JetPack 6.1 . Dabei soll zuerst JetPack geflascht werden, damit das Gerät die neues Software nämlich JetPack annehmen kann."
   ]
  }
 ],
 "metadata": {
  "language_info": {
   "name": "python"
  }
 },
 "nbformat": 4,
 "nbformat_minor": 2
}
