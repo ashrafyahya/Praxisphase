{
 "cells": [
  {
   "cell_type": "markdown",
   "metadata": {},
   "source": [
    "# Tasks"
   ]
  },
  {
   "cell_type": "markdown",
   "metadata": {},
   "source": [
    "- Einrichtunganleitung **Done**"
   ]
  },
  {
   "cell_type": "markdown",
   "metadata": {},
   "source": [
    "- Über Jetson **------**"
   ]
  },
  {
   "cell_type": "markdown",
   "metadata": {},
   "source": [
    "- Einrichtungserrors **Done**"
   ]
  },
  {
   "cell_type": "markdown",
   "metadata": {},
   "source": [
    "- Modell suchen und testen **Yolov5 getestet, also Done**"
   ]
  },
  {
   "cell_type": "markdown",
   "metadata": {},
   "source": [
    "S.g. Herr Yahya,\n",
    "sorry für die späte Rückmeldung, ich bin derzeit im Krankenlager.\n",
    "Sie sollten etwas genauer und besser beschreiben wie das mit der \n",
    "Objekterkennung funktioniert und auch die Softwaresysteme dahinter etwas \n",
    "genauer beschreiben welche verwendet werden.\n",
    "\n",
    "Wenn Sie das haben können Sie sich damit beschäftigen wie man mit einer \n",
    "Batterie (welche ?) und einer Powerbank den Jetson autonom betreiben \n",
    "kann, d.h. wieviel Energie er in welcher Zeit verbraucht bei dauerhafter \n",
    "Objekterkennung. Wenn Sie ermittelt haben wie das geht und welche Akkus \n",
    "man braucht bitte melden, wir können die benötigte Hardware bestellen\n",
    "\n",
    "Als nächstes bitte prüfen wie man die Dimensionen bzw. Abmessungen der \n",
    "Objekte ermitteln kann die die Objekterkennung erkamnnt hat.\n",
    "MfG\n",
    "u. Gnasa"
   ]
  }
 ],
 "metadata": {
  "language_info": {
   "name": "python"
  }
 },
 "nbformat": 4,
 "nbformat_minor": 2
}
