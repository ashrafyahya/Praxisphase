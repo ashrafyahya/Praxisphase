{
 "cells": [
  {
   "cell_type": "markdown",
   "metadata": {},
   "source": [
    "# Tasks\n",
    "\n",
    "## Einrichtunganleitung\n",
    "## Über Jetson\n",
    "## Errors\n",
    "## Starten\n",
    "## Modell suchen\n",
    "## Model testen"
   ]
  }
 ],
 "metadata": {
  "language_info": {
   "name": "python"
  }
 },
 "nbformat": 4,
 "nbformat_minor": 2
}
